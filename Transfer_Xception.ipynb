{
 "cells": [
  {
   "cell_type": "markdown",
   "metadata": {},
   "source": [
    "Transfer_Xception.ipynb\n",
    "\n",
    "Julia Goyco, Zoe Lambert, Jennifer Mince, Stephanie Schoch\n",
    "\n",
    "COSC480 - Major Project: Image Classification of Mixed Dog Breeds\n",
    "\n",
    "This project aims to create a deep neural network with several goals.\n",
    "First, we want to accurately predict dog breeds. Second, we want to extend\n",
    "this to the application of mixed dog breeds. Specifically,\n",
    "we want to identify the parent breeds in known mixed dog breeds. This involves\n",
    "the creation of a mixed-breed dog dataset and the application of transfer learning\n",
    "techniques to the mixed-breed dataset.\n",
    "\n",
    "Need to install: tqdm (Anaconda library) - progress meter\n",
    "Also need: Mixed Breed dataset from Google Project Folder. This file is too large to upload to github.\n",
    "Resources for running are in Google folders Mixed-Breed Dog Images; resources for running code\n",
    "\n",
    "Project due date: 12/10/18"
   ]
  },
  {
   "cell_type": "markdown",
   "metadata": {},
   "source": [
    "# Transfer Learning with keras pretrained model- Xception \n",
    "This model has weights that have been pretrained on imagenet\n",
    "More layers are added on top of the model.\n",
    "Could use data augmentation for better results- I did not try that yet\n",
    "This still need to be fine-tuned for better performance\n",
    "\n",
    "There are other pretrained models we can try if this doesnt seem like it is working\n",
    "\n",
    "Another thing that could be done is geting all the mixed dog breed images to arrays\n",
    "\n",
    "Here are some links \n",
    "https://www.depends-on-the-definition.com/transfer-learning-for-dog-breed-identification/\n",
    "\n",
    "https://github.com/booleanhunter/Deep-Learning-Projects/blob/master/Predict%20Dog%20Breeds/dog_app.ipynb\n"
   ]
  },
  {
   "cell_type": "code",
   "execution_count": null,
   "metadata": {},
   "outputs": [],
   "source": [
    "from keras.layers import GlobalAveragePooling2D, Dense, BatchNormalization, Dropout\n",
    "from keras.optimizers import Adam, SGD, RMSprop\n",
    "from keras.models import Model, Input\n",
    "from keras.preprocessing import image\n",
    "from keras.applications import xception\n",
    "import numpy as np\n",
    "from sklearn import preprocessing\n",
    "from sklearn.model_selection import train_test_split\n",
    "from keras.utils.np_utils import to_categorical\n",
    "from keras.callbacks import ModelCheckpoint\n",
    "\n",
    "# For Dog Breed Predictor\n",
    "from scipy import ndimage, io, misc\n",
    "from xml.dom import minidom\n",
    "from matplotlib.pyplot import imshow        \n",
    "import matplotlib.pyplot as plt  \n",
    "import imageio\n",
    "%matplotlib inline                          \n",
    "import pandas as pd\n",
    "from keras.applications.xception import Xception, preprocess_input, decode_predictions"
   ]
  },
  {
   "cell_type": "markdown",
   "metadata": {},
   "source": [
    "Download data from google drive folder and save in the same directory as this notebook"
   ]
  },
  {
   "cell_type": "code",
   "execution_count": null,
   "metadata": {},
   "outputs": [],
   "source": [
    "# fix random seed for reproducibility\n",
    "seed = 7\n",
    "np.random.seed(seed)\n",
    "\n",
    "# Load image and label data.\n",
    "X = np.load(open('Dog_images.npy','rb'))\n",
    "Y = np.load(open('Dog_labels.npy','rb'))\n",
    "\n",
    "pre_y = preprocessing.minmax_scale(Y, feature_range=(0,119))\n",
    "\n",
    "y_cat = to_categorical(pre_y, num_classes=None)\n",
    "\n",
    "#Split between the train and test data.\n",
    "X_train, X_test, y_train, y_test = train_test_split(X, y_cat, test_size=0.20, random_state=seed)"
   ]
  },
  {
   "cell_type": "markdown",
   "metadata": {},
   "source": [
    "Download DogXceptionData.npz from link google drive folder"
   ]
  },
  {
   "cell_type": "code",
   "execution_count": null,
   "metadata": {},
   "outputs": [],
   "source": [
    "#Load bottleneck features from DogXceptionData.npz. \n",
    "#These will serve as the last activation maps prior to the fully connected layers.\n",
    "bottleneck_features = np.load('DogXceptionData.npz')\n",
    "train_Xception = bottleneck_features['train']\n",
    "valid_Xception = bottleneck_features['valid']\n",
    "test_Xception = bottleneck_features['test']"
   ]
  },
  {
   "cell_type": "code",
   "execution_count": null,
   "metadata": {},
   "outputs": [],
   "source": [
    "# Using the Xception model, pretrained on ImageNet database.\n",
    "# Xception: better performance over Inception by using depthwise separable convolutions.\n",
    "def extract_Xception(tensor):\n",
    "    return Xception(weights='imagenet', include_top=False).predict(preprocess_input(tensor))"
   ]
  },
  {
   "cell_type": "markdown",
   "metadata": {},
   "source": [
    "On top of the pretrained model a fully connected layer with 1024 neurons and some Dropout is added."
   ]
  },
  {
   "cell_type": "code",
   "execution_count": null,
   "metadata": {},
   "outputs": [],
   "source": [
    "NUM_CLASSES = 120\n",
    "# create the base pre-trained model\n",
    "base_model = xception.Xception(weights='imagenet', include_top=False)\n",
    "\n",
    "# add a global spatial average pooling layer\n",
    "x = base_model.output\n",
    "\n",
    "#Can try adding more layers\n",
    "x = BatchNormalization()(x)\n",
    "x = GlobalAveragePooling2D()(x)\n",
    "\n",
    "# Add a fully-connected layer\n",
    "x = Dropout(0.5)(x)\n",
    "x = Dense(1024, activation='relu')(x)\n",
    "x = Dropout(0.5)(x)\n",
    "\n",
    "# Add logistic layer with NUM_CLASSES.\n",
    "predictions = Dense(NUM_CLASSES, activation='softmax')(x)\n",
    "\n",
    "# This is the model we will train\n",
    "model = Model(inputs=base_model.input, outputs=predictions)"
   ]
  },
  {
   "cell_type": "code",
   "execution_count": null,
   "metadata": {},
   "outputs": [],
   "source": [
    "# checkpoints: to save the best weights (only if accuracy improves)\n",
    "filepath=\"weights.best.hdf5\"\n",
    "checkpoint = ModelCheckpoint(filepath, monitor='val_acc', verbose=1, save_best_only=True, mode='min')\n",
    "callbacks_list = [checkpoint]"
   ]
  },
  {
   "cell_type": "markdown",
   "metadata": {},
   "source": [
    "Can try fine tuning more layers\n",
    "Can try using different optimizers"
   ]
  },
  {
   "cell_type": "code",
   "execution_count": null,
   "metadata": {},
   "outputs": [],
   "source": [
    "# first: train only the top layers (which were randomly initialized)\n",
    "for layer in base_model.layers[:116]:\n",
    "     layer.trainable = False\n",
    "for layer in base_model.layers[116:]:\n",
    "     layer.trainable = True\n",
    "\n",
    "\n",
    "\n",
    "# compile the model (should be done *after* setting layers to non-trainable)\n",
    "#Can try different optimizers like adam\n",
    "optimizer = RMSprop(lr=0.001, rho=0.9)\n",
    "\n",
    "# Load weights from file in local directory (saved at previous checkpoint)\n",
    "# in example at https://machinelearningmastery.com/check-point-deep-learning-models-keras/\n",
    "# they used binary_crossentropy, but this shouldn't affect results.\n",
    "#model.load_weights(\"weights.best.hdf5\")\n",
    "\n",
    "model.compile(optimizer='adam',\n",
    "              loss='categorical_crossentropy',\n",
    "              metrics=[\"accuracy\"])"
   ]
  },
  {
   "cell_type": "code",
   "execution_count": null,
   "metadata": {},
   "outputs": [],
   "source": [
    "# train the model on the new data for a few epochs\n",
    "BATCH_SIZE = 32\n",
    "EPOCHS = 4\n",
    "\n",
    "#Checkpoints still need to be added to model.fit call\n",
    "hist = model.fit(X_train, y_train, validation_data=(X_test, y_test),epochs=EPOCHS, \n",
    "          batch_size=BATCH_SIZE, callbacks=callbacks_list,verbose = 1)"
   ]
  },
  {
   "cell_type": "code",
   "execution_count": null,
   "metadata": {},
   "outputs": [],
   "source": [
    "bst_val_acc = max(hist.history['val_acc'])\n",
    "print(\"Best val acc: {:.1%}\".format(bst_val_acc))"
   ]
  },
  {
   "cell_type": "code",
   "execution_count": null,
   "metadata": {},
   "outputs": [],
   "source": [
    "#checkpoint, load in best weights\n",
    "filename = \"Dev cloud\\weights.best.hdf5\"\n",
    "model.load_weights(filename)\n",
    "model.compile(optimizer='adam',loss='categorical_crossentropy',metrics=[\"accuracy\"])\n",
    "\n",
    "scores = model.evaluate(X_test, y_test, verbose=2)\n",
    "print(\"Accuracy: %.2f%%\" % (scores[1]*100))"
   ]
  },
  {
   "cell_type": "markdown",
   "metadata": {},
   "source": [
    "# Mixed Dog Breed Transfer Learning"
   ]
  },
  {
   "cell_type": "code",
   "execution_count": null,
   "metadata": {},
   "outputs": [],
   "source": [
    "#Mixed dog breed data"
   ]
  },
  {
   "cell_type": "code",
   "execution_count": null,
   "metadata": {},
   "outputs": [],
   "source": [
    "# fix random seed for reproducibility\n",
    "seed = 7\n",
    "np.random.seed(seed)\n",
    "\n",
    "# load data\n",
    "X = np.load(open('mixed breed\\Mixed_train_images.npy','rb'))\n",
    "Y = np.load(open('mixed breed\\Mixed_train_labels.npy','rb'))\n",
    "\n",
    "pre_y = preprocessing.minmax_scale(Y, feature_range=(0,119))\n",
    "\n",
    "y_cat = to_categorical(pre_y, num_classes=None)\n",
    "\n",
    "X_mixed_train, X_mixed_test, y_mixed_train, y_mixed_test = train_test_split(X, y_cat, test_size=0.20, random_state=seed)"
   ]
  },
  {
   "cell_type": "code",
   "execution_count": null,
   "metadata": {},
   "outputs": [],
   "source": []
  },
  {
   "cell_type": "code",
   "execution_count": null,
   "metadata": {},
   "outputs": [],
   "source": [
    "# checkpoints: to save the best weights (only if accuracy improves)\n",
    "filepath=\"mixed_weights.best.hdf5\"\n",
    "checkpoint = ModelCheckpoint(filepath, monitor='val_acc', verbose=1, save_best_only=True, mode='min')\n",
    "callbacks_list = [checkpoint]\n",
    "\n"
   ]
  },
  {
   "cell_type": "code",
   "execution_count": null,
   "metadata": {},
   "outputs": [],
   "source": [
    "# first: train only the top layers (which were randomly initialized)\n",
    "# i.e. freeze all convolutional Xception layers\n",
    "for layer in base_model.layers:\n",
    "    layer.trainable = False\n",
    "\n",
    "\n",
    "# compile the model (should be done *after* setting layers to non-trainable)\n",
    "#Can try different optimizers like adam\n",
    "optimizer = RMSprop(lr=0.001, rho=0.9)\n",
    "model.compile(optimizer='adam',\n",
    "              loss='categorical_crossentropy',\n",
    "              metrics=[\"accuracy\"])\n",
    "\n"
   ]
  },
  {
   "cell_type": "code",
   "execution_count": null,
   "metadata": {},
   "outputs": [],
   "source": [
    "# train the model on the new data for a few epochs\n",
    "BATCH_SIZE = 32\n",
    "EPOCHS = 1\n",
    "\n",
    "#Checkpoints still need to be added to model.fit call\n",
    "hist = model.fit(X_mixed_train, y_mixed_train, validation_data=(X_mixed_test, y_mixed_test),epochs=EPOCHS, batch_size=BATCH_SIZE, callbacks=callbacks_list)\n"
   ]
  },
  {
   "cell_type": "code",
   "execution_count": null,
   "metadata": {},
   "outputs": [],
   "source": [
    "bst_val_acc = max(hist.history['val_acc'])\n",
    "print(\"Best val acc: {:.1%}\".format(bst_val_acc))"
   ]
  },
  {
   "cell_type": "code",
   "execution_count": null,
   "metadata": {},
   "outputs": [],
   "source": [
    "#Load in best weights from checkpoint\n",
    "filename = \"Dev cloud\\mixed_weights.best.hdf5\"\n",
    "model.load_weights(filename)\n",
    "model.compile(optimizer='adam',loss='categorical_crossentropy',metrics=[\"accuracy\"])\n",
    "\n",
    "\n"
   ]
  },
  {
   "cell_type": "code",
   "execution_count": null,
   "metadata": {},
   "outputs": [],
   "source": [
    "scores = model.evaluate(X_test, y_test, verbose=0)\n",
    "print(\"Accuracy: %.2f%%\" % (scores[1]*100))"
   ]
  },
  {
   "cell_type": "code",
   "execution_count": null,
   "metadata": {},
   "outputs": [],
   "source": []
  },
  {
   "cell_type": "markdown",
   "metadata": {},
   "source": [
    "# Mixed Dog Breed Predictor"
   ]
  },
  {
   "cell_type": "code",
   "execution_count": null,
   "metadata": {},
   "outputs": [],
   "source": [
    "#read labels.csv \n",
    "data = pd.read_csv(\"labels.csv\") \n",
    "\n",
    "pic_breed = data[\"breed\"]\n",
    "\n",
    "#Get dog names\n",
    "#creates a list of all mixed dog breeds\n",
    "unique_Breed = pic_breed.unique()"
   ]
  },
  {
   "cell_type": "code",
   "execution_count": null,
   "metadata": {},
   "outputs": [],
   "source": [
    "def path_to_tensor(img_path):\n",
    "    # Loads RGB image as PIL.Image.Image type\n",
    "    img = image.load_img(img_path, target_size=(224, 224))\n",
    "    \n",
    "    # Convert PIL.Image.Image type to 3D tensor with shape (224, 224, 3)\n",
    "    x = image.img_to_array(img)\n",
    "    \n",
    "    # Convert 3D tensor to 4D tensor with shape (1, 224, 224, 3) and return 4D tensor\n",
    "    return np.expand_dims(x, axis=0)"
   ]
  },
  {
   "cell_type": "code",
   "execution_count": null,
   "metadata": {},
   "outputs": [],
   "source": [
    "def display_image(img_path):\n",
    "    a = imageio.imread(img_path)[:,:,:3]\n",
    "    imshow(a)"
   ]
  },
  {
   "cell_type": "code",
   "execution_count": null,
   "metadata": {},
   "outputs": [],
   "source": [
    "#predicts a vector based on an image\n",
    "def Mixed_detect_dog(model, image_path):\n",
    "    tensor = path_to_tensor(image_path)\n",
    "    bottleneck_features = extract_Xception(tensor)\n",
    "    predicted_vector = model.predict(tensor)\n",
    "    predicted_indices = np.argsort(predicted_vector)\n",
    "    flat = predicted_indices.flatten()\n",
    "    first_predict = unique_Breed[flat[-1]]\n",
    "    second_predict = unique_Breed[flat[-2]]\n",
    "    return first_predict,second_predict"
   ]
  },
  {
   "cell_type": "code",
   "execution_count": null,
   "metadata": {},
   "outputs": [],
   "source": [
    "def Mixed_dog_prediction(img_path):   \n",
    "    display_image(img_path)\n",
    "    prediction1,prediction2  = Mixed_detect_dog(model, img_path)\n",
    "    print('This dog is a mix of {} and {} ! '.format(prediction1,prediction2))\n"
   ]
  },
  {
   "cell_type": "code",
   "execution_count": null,
   "metadata": {},
   "outputs": [],
   "source": [
    "Mixed_dog_prediction(\"n02118010_8.jpg\")"
   ]
  },
  {
   "cell_type": "code",
   "execution_count": null,
   "metadata": {},
   "outputs": [],
   "source": [
    "Mixed_dog_prediction(\"n02110000_3.jpg\")"
   ]
  },
  {
   "cell_type": "code",
   "execution_count": null,
   "metadata": {},
   "outputs": [],
   "source": []
  }
 ],
 "metadata": {
  "kernelspec": {
   "display_name": "Python 3",
   "language": "python",
   "name": "python3"
  },
  "language_info": {
   "codemirror_mode": {
    "name": "ipython",
    "version": 3
   },
   "file_extension": ".py",
   "mimetype": "text/x-python",
   "name": "python",
   "nbconvert_exporter": "python",
   "pygments_lexer": "ipython3",
   "version": "3.6.6"
  }
 },
 "nbformat": 4,
 "nbformat_minor": 2
}
