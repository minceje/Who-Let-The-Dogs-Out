{
 "cells": [
  {
   "cell_type": "code",
   "execution_count": 1,
   "metadata": {},
   "outputs": [
    {
     "name": "stderr",
     "output_type": "stream",
     "text": [
      "C:\\Users\\jmince\\Anaconda3\\lib\\site-packages\\h5py\\__init__.py:36: FutureWarning: Conversion of the second argument of issubdtype from `float` to `np.floating` is deprecated. In future, it will be treated as `np.float64 == np.dtype(float).type`.\n",
      "  from ._conv import register_converters as _register_converters\n",
      "Using TensorFlow backend.\n"
     ]
    }
   ],
   "source": [
    "#Adapted From: https://www.kaggle.com/lgmoneda/from-image-files-to-numpy-arrays\n",
    "\n",
    "\n",
    "# This Python 3 environment comes with many helpful analytics libraries installed\n",
    "# It is defined by the kaggle/python docker image: https://github.com/kaggle/docker-python\n",
    "# For example, here's several helpful packages to load in \n",
    "\n",
    "import numpy as np # linear algebra\n",
    "import pandas as pd # data processing, CSV file I/O (e.g. pd.read_csv)\n",
    "\n",
    "# Input data files are available in the \"../input/\" directory.\n",
    "# For example, running this (by clicking run or pressing Shift+Enter) will list the files in the input directory\n",
    "\n",
    "#from subprocess import check_output\n",
    "#print(check_output([\"ls\", \"../input\"]).decode(\"utf8\"))\n",
    "\n",
    "# Any results you write to the current directory are saved as output.\n",
    "\n",
    "import os, sys\n",
    "from IPython.display import display\n",
    "from IPython.display import Image as _Imgdis\n",
    "from PIL import Image\n",
    "import numpy as np\n",
    "from time import time\n",
    "from time import sleep\n",
    "\n",
    "from scipy import ndimage\n",
    "from keras.preprocessing.image import ImageDataGenerator, array_to_img, img_to_array, load_img"
   ]
  },
  {
   "cell_type": "code",
   "execution_count": 2,
   "metadata": {},
   "outputs": [
    {
     "name": "stdout",
     "output_type": "stream",
     "text": [
      "Working with 330 images\n"
     ]
    }
   ],
   "source": [
    "#processing the images for training \n",
    "\n",
    "folder = \"Mixed-Breed Dog images\"\n",
    "images=os.listdir('Mixed-Breed Dog images/train') #get all the images from the correct folders\n",
    "\n",
    "onlyfiles = []\n",
    "\n",
    "\n",
    "folder = os.listdir('Mixed-Breed Dog images/train')\n",
    "folder = ['Mixed-Breed Dog images/train'+'/'+f for f in folder]\n",
    "for img in folder:\n",
    "    image_files = os.listdir(img)\n",
    "    for i in image_files:\n",
    "        i = [i]\n",
    "        #print(i)\n",
    "        onlyfiles = onlyfiles + i\n",
    "        \n",
    "print(\"Working with {0} images\".format(len(onlyfiles)))\n",
    "#print(\"Image examples: \")\n"
   ]
  },
  {
   "cell_type": "code",
   "execution_count": 3,
   "metadata": {},
   "outputs": [
    {
     "name": "stdout",
     "output_type": "stream",
     "text": [
      "Files in train_files: 330\n",
      "All images to array!\n"
     ]
    }
   ],
   "source": [
    "train_files = []\n",
    "y_train = []\n",
    "i=0\n",
    "for _file in onlyfiles:\n",
    "    train_files.append(_file)\n",
    "    label_in_file = _file.find(\"0\")\n",
    "    label_end = _file.find(\"_\")\n",
    "    y_train.append(int(_file[label_in_file:label_end]))\n",
    "\n",
    "    \n",
    "print(\"Files in train_files: %d\" % len(train_files))\n",
    "\n",
    "# Original Dimensions\n",
    "image_width = 224\n",
    "image_height = 224\n",
    "ratio = 4\n",
    "\n",
    "image_width = int(image_width / ratio)\n",
    "image_height = int(image_height / ratio)\n",
    "\n",
    "channels = 3\n",
    "nb_classes = 1\n",
    "\n",
    "dataset = np.ndarray(shape=(len(train_files),image_height, image_width,channels),\n",
    "                     dtype=np.float32)\n",
    "\n",
    "#put all training images into an array\n",
    "\n",
    "i = 0\n",
    "from keras.preprocessing import image\n",
    "#folder = [f for f in folder]\n",
    "\n",
    "folder = os.listdir('Mixed-Breed Dog images/train')\n",
    "folder = ['Mixed-Breed Dog images/train'+'/'+f for f in folder]\n",
    "for f in folder:\n",
    "    image_files = os.listdir(f)\n",
    "    for _file in image_files:\n",
    "        #print(_file)\n",
    "    #_file = [_file]\n",
    "        #print(f+'/'+_file)\n",
    "        img = image.load_img((f+ \"/\" + _file),target_size=(224,224))  # this is a PIL image\n",
    "        img.thumbnail((image_width, image_height))\n",
    "        # Convert to Numpy Array\n",
    "        img = image.img_to_array(img)#.shape\n",
    "        #print(img)\n",
    "       # img = img.reshape(224,224,channels)\n",
    "        #a = misc.imread(f+'/'+_file)[:,:,:3]\n",
    "        #imshow(a)\n",
    "        # Normalize\n",
    "        img = (img - 255.0) / 255.0\n",
    "        #print(img)\n",
    "        dataset[i] = img\n",
    "        i += 1\n",
    "        #if i % 255 == 0:\n",
    "         #   print(\"%d images to array\" % i)\n",
    "print(\"All images to array!\")"
   ]
  },
  {
   "cell_type": "code",
   "execution_count": 9,
   "metadata": {},
   "outputs": [
    {
     "name": "stdout",
     "output_type": "stream",
     "text": [
      "Files in test_files: 52\n",
      "All images to array!\n"
     ]
    }
   ],
   "source": [
    "#processing images for testing\n",
    "onlyfiles = []\n",
    "folder = os.listdir('Mixed-Breed Dog images/test')\n",
    "folder = ['Mixed-Breed Dog images/test'+'/'+f for f in folder]\n",
    "for img in folder:\n",
    "    image_files = os.listdir(img)\n",
    "    for i in image_files:\n",
    "        i = [i]\n",
    "        #print(i)\n",
    "        onlyfiles = onlyfiles + i\n",
    "        \n",
    "test_files = []\n",
    "y_test = []\n",
    "i=0\n",
    "for _file in onlyfiles:\n",
    "    test_files.append(_file)\n",
    "    label_in_file = _file.find(\"0\")\n",
    "    label_end = _file.find(\"_\")\n",
    "    y_test.append(int(_file[label_in_file:label_end]))\n",
    "\n",
    "    \n",
    "print(\"Files in test_files: %d\" % len(test_files))\n",
    "\n",
    "# Original Dimensions\n",
    "image_width = 224\n",
    "image_height = 224\n",
    "ratio = 4\n",
    "\n",
    "#image_width = int(image_width / ratio)\n",
    "#image_height = int(image_height / ratio)\n",
    "\n",
    "channels = 3\n",
    "nb_classes = 1\n",
    "\n",
    "dataset = np.ndarray(shape=(len(test_files),image_height, image_width,channels),\n",
    "                     dtype=np.float32)\n",
    "\n",
    "\n",
    "\n",
    "i = 0\n",
    "from keras.preprocessing import image\n",
    "#folder = [f for f in folder]\n",
    "\n",
    "folder = os.listdir('Mixed-Breed Dog images/test')\n",
    "folder = ['Mixed-Breed Dog images/test'+'/'+f for f in folder]\n",
    "for f in folder:\n",
    "    image_files = os.listdir(f)\n",
    "    for _file in image_files:\n",
    "        #print(_file)\n",
    "    #_file = [_file]\n",
    "        #print(f+'/'+_file)\n",
    "        img = image.load_img((f+ \"/\" + _file),target_size=(224,224))  # this is a PIL image        img.thumbnail((image_width, image_height))\n",
    "        # Convert to Numpy Array\n",
    "        img = image.img_to_array(img)\n",
    "        #.shape\n",
    "        #print(img)\n",
    "        #x = img.reshape(120,160)\n",
    "        #a = misc.imread(f+'/'+_file)[:,:,:3]\n",
    "        #imshow(a)\n",
    "        # Normalize\n",
    "        img = (img - 255.0) / 255.0\n",
    "        #print(img)\n",
    "        dataset[i] = img\n",
    "        i += 1\n",
    "        #if i % 255 == 0:\n",
    "         #   print(\"%d images to array\" % i)\n",
    "print(\"All images to array!\")\n"
   ]
  },
  {
   "cell_type": "code",
   "execution_count": null,
   "metadata": {},
   "outputs": [],
   "source": []
  }
 ],
 "metadata": {
  "kernelspec": {
   "display_name": "Python 3",
   "language": "python",
   "name": "python3"
  },
  "language_info": {
   "codemirror_mode": {
    "name": "ipython",
    "version": 3
   },
   "file_extension": ".py",
   "mimetype": "text/x-python",
   "name": "python",
   "nbconvert_exporter": "python",
   "pygments_lexer": "ipython3",
   "version": "3.6.5"
  }
 },
 "nbformat": 4,
 "nbformat_minor": 2
}
